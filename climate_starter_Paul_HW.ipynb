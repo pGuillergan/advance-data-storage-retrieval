{
 "cells": [
  {
   "cell_type": "code",
   "execution_count": 44,
   "metadata": {},
   "outputs": [],
   "source": [
    "%matplotlib inline\n",
    "from matplotlib import style\n",
    "style.use('fivethirtyeight')\n",
    "import matplotlib.pyplot as plt"
   ]
  },
  {
   "cell_type": "code",
   "execution_count": 45,
   "metadata": {},
   "outputs": [],
   "source": [
    "import numpy as np\n",
    "import pandas as pd"
   ]
  },
  {
   "cell_type": "code",
   "execution_count": 46,
   "metadata": {},
   "outputs": [],
   "source": [
    "import datetime as dt"
   ]
  },
  {
   "cell_type": "markdown",
   "metadata": {},
   "source": [
    "# Reflect Tables into SQLAlchemy ORM"
   ]
  },
  {
   "cell_type": "code",
   "execution_count": 47,
   "metadata": {},
   "outputs": [],
   "source": [
    "# Python SQL toolkit and Object Relational Mapper\n",
    "import sqlalchemy\n",
    "from sqlalchemy.ext.automap import automap_base\n",
    "from sqlalchemy.orm import Session\n",
    "from sqlalchemy import create_engine, func, inspect"
   ]
  },
  {
   "cell_type": "code",
   "execution_count": 48,
   "metadata": {},
   "outputs": [],
   "source": [
    "engine = create_engine(\"sqlite:///Resources/hawaii.sqlite\", echo=False)"
   ]
  },
  {
   "cell_type": "code",
   "execution_count": 49,
   "metadata": {},
   "outputs": [],
   "source": [
    "# reflect an existing database into a new model\n",
    "Base = automap_base()\n",
    "# reflect the tables\n",
    "Base.prepare(engine, reflect=True)"
   ]
  },
  {
   "cell_type": "code",
   "execution_count": 50,
   "metadata": {},
   "outputs": [
    {
     "data": {
      "text/plain": [
       "['measurement', 'station']"
      ]
     },
     "execution_count": 50,
     "metadata": {},
     "output_type": "execute_result"
    }
   ],
   "source": [
    "# We can view all of the classes that automap found\n",
    "Base.classes.keys()"
   ]
  },
  {
   "cell_type": "code",
   "execution_count": 51,
   "metadata": {},
   "outputs": [],
   "source": [
    "# Save references to each table\n",
    "Measurement = Base.classes.measurement\n",
    "Station = Base.classes.station"
   ]
  },
  {
   "cell_type": "code",
   "execution_count": 52,
   "metadata": {},
   "outputs": [],
   "source": [
    "# Create our session (link) from Python to the DB\n",
    "session = Session(engine)"
   ]
  },
  {
   "cell_type": "code",
   "execution_count": 53,
   "metadata": {},
   "outputs": [
    {
     "data": {
      "text/plain": [
       "{'_sa_instance_state': <sqlalchemy.orm.state.InstanceState at 0x11fa39e10>,\n",
       " 'tobs': 65.0,\n",
       " 'date': '2010-01-01',\n",
       " 'id': 1,\n",
       " 'prcp': 0.08,\n",
       " 'station': 'USC00519397'}"
      ]
     },
     "execution_count": 53,
     "metadata": {},
     "output_type": "execute_result"
    }
   ],
   "source": [
    "first_row_M = session.query(Measurement).first()\n",
    "first_row_M.__dict__"
   ]
  },
  {
   "cell_type": "code",
   "execution_count": 54,
   "metadata": {},
   "outputs": [
    {
     "data": {
      "text/plain": [
       "{'_sa_instance_state': <sqlalchemy.orm.state.InstanceState at 0x11da6e2e8>,\n",
       " 'longitude': -157.8168,\n",
       " 'name': 'WAIKIKI 717.2, HI US',\n",
       " 'station': 'USC00519397',\n",
       " 'elevation': 3.0,\n",
       " 'latitude': 21.2716,\n",
       " 'id': 1}"
      ]
     },
     "execution_count": 54,
     "metadata": {},
     "output_type": "execute_result"
    }
   ],
   "source": [
    "first_row_S = session.query(Station).first()\n",
    "first_row_S.__dict__"
   ]
  },
  {
   "cell_type": "code",
   "execution_count": 55,
   "metadata": {},
   "outputs": [
    {
     "name": "stdout",
     "output_type": "stream",
     "text": [
      "['measurement', 'station']\n",
      "--Measurement:\n",
      "id INTEGER\n",
      "station TEXT\n",
      "date TEXT\n",
      "prcp FLOAT\n",
      "tobs FLOAT\n",
      "--Station:\n",
      "id INTEGER\n",
      "station TEXT\n",
      "name TEXT\n",
      "latitude FLOAT\n",
      "longitude FLOAT\n",
      "elevation FLOAT\n"
     ]
    }
   ],
   "source": [
    "inspector = inspect(engine)\n",
    "print(inspector.get_table_names())\n",
    "\n",
    "inspect_cols_M = inspector.get_columns('measurement')\n",
    "print(\"--Measurement:\")\n",
    "for c in inspect_cols_M:\n",
    "    print(c['name'], c['type'])\n",
    "    \n",
    "inspect_cols_M = inspector.get_columns('station')\n",
    "print(\"--Station:\")\n",
    "for c in inspect_cols_M:\n",
    "    print(c['name'], c['type'])"
   ]
  },
  {
   "cell_type": "markdown",
   "metadata": {},
   "source": [
    "# Exploratory Climate Analysis"
   ]
  },
  {
   "cell_type": "code",
   "execution_count": 56,
   "metadata": {},
   "outputs": [
    {
     "name": "stdout",
     "output_type": "stream",
     "text": [
      "                prcp\n",
      "date                \n",
      "2016-08-24  1.555000\n",
      "2016-08-25  0.108000\n",
      "2016-08-26  0.025000\n",
      "2016-08-27  0.106667\n",
      "2016-08-28  0.516667\n",
      "2016-08-29  0.365000\n",
      "2016-08-30  0.035000\n",
      "2016-08-31  0.636000\n",
      "2016-09-01  0.015000\n",
      "2016-09-02  0.062500\n",
      "             prcp\n",
      "count  317.000000\n",
      "mean     0.247885\n",
      "std      0.333187\n",
      "min      0.010000\n",
      "25%      0.060000\n",
      "50%      0.140000\n",
      "75%      0.292500\n",
      "max      2.380000\n"
     ]
    },
    {
     "data": {
      "image/png": "[encoded data removed]",
      "text/plain": [
       "<Figure size 432x288 with 1 Axes>"
      ]
     },
     "metadata": {},
     "output_type": "display_data"
    }
   ],
   "source": [
    "# Design a query to retrieve the last 12 months of precipitation data and plot the results\n",
    "\n",
    "# Calculate the date 1 year ago from the last data point in the database\n",
    "latest_date, = session.query(Measurement.date).order_by(Measurement.date.desc()).first()\n",
    "latest_date_dt = dt.datetime.strptime(latest_date, '%Y-%m-%d')\n",
    "\n",
    "from dateutil.relativedelta import relativedelta\n",
    "\n",
    "def yearsago(years, from_date=None):\n",
    "    if from_date is None:\n",
    "        from_date = datetime.now()\n",
    "    return from_date - relativedelta(years=years)\n",
    "\n",
    "year_ago_dt = yearsago(1, from_date=latest_date_dt)\n",
    "year_ago = year_ago_dt.strftime('%Y-%m-%d')\n",
    "\n",
    "# Perform a query to retrieve the data and precipitation scores\n",
    "year_ago_query = session.query(Measurement.date, Measurement.prcp).\\\n",
    "    filter(Measurement.date > year_ago).\\\n",
    "    order_by(Measurement.date).all()\n",
    "# if we want to remove NaN\n",
    "year_ago_query_no_NaN = [i for i in year_ago_query if i[1]] \n",
    "\n",
    "# Save the query results as a Pandas DataFrame and set the index to the date column\n",
    "year_ago_df = pd.DataFrame(year_ago_query_no_NaN)\n",
    "year_ago_df = year_ago_df.groupby(['date']).mean()\n",
    "\n",
    "# Sort the dataframe by date\n",
    "year_ago_df.sort_values(by='date')\n",
    "print(year_ago_df.head(10))\n",
    "# grouped mean by day\n",
    "print(year_ago_df.describe())11\n",
    "\n",
    "# Use Pandas Plotting with Matplotlib to plot the data\n",
    "# !!!!TODO: need to tweak this for easier interpretation\n",
    "plt.bar(year_ago_df.index.values.tolist(), year_ago_df.prcp.values.tolist(), linewidth=0.5)\n",
    "plt.rcParams[\"figure.figsize\"] = (40,20)\n",
    "plt.show()"
   ]
  },
  {
   "cell_type": "markdown",
   "metadata": {},
   "source": [
    "![precipitation](Images/precipitation.png)"
   ]
  },
  {
   "cell_type": "code",
   "execution_count": 57,
   "metadata": {},
   "outputs": [
    {
     "data": {
      "text/html": [
       "<div>\n",
       "<style scoped>\n",
       "    .dataframe tbody tr th:only-of-type {\n",
       "        vertical-align: middle;\n",
       "    }\n",
       "\n",
       "    .dataframe tbody tr th {\n",
       "        vertical-align: top;\n",
       "    }\n",
       "\n",
       "    .dataframe thead th {\n",
       "        text-align: right;\n",
       "    }\n",
       "</style>\n",
       "<table border=\"1\" class=\"dataframe\">\n",
       "  <thead>\n",
       "    <tr style=\"text-align: right;\">\n",
       "      <th></th>\n",
       "      <th>prcp</th>\n",
       "    </tr>\n",
       "  </thead>\n",
       "  <tbody>\n",
       "    <tr>\n",
       "      <th>count</th>\n",
       "      <td>2015.000000</td>\n",
       "    </tr>\n",
       "    <tr>\n",
       "      <th>mean</th>\n",
       "      <td>0.176462</td>\n",
       "    </tr>\n",
       "    <tr>\n",
       "      <th>std</th>\n",
       "      <td>0.460288</td>\n",
       "    </tr>\n",
       "    <tr>\n",
       "      <th>min</th>\n",
       "      <td>0.000000</td>\n",
       "    </tr>\n",
       "    <tr>\n",
       "      <th>25%</th>\n",
       "      <td>0.000000</td>\n",
       "    </tr>\n",
       "    <tr>\n",
       "      <th>50%</th>\n",
       "      <td>0.020000</td>\n",
       "    </tr>\n",
       "    <tr>\n",
       "      <th>75%</th>\n",
       "      <td>0.130000</td>\n",
       "    </tr>\n",
       "    <tr>\n",
       "      <th>max</th>\n",
       "      <td>6.700000</td>\n",
       "    </tr>\n",
       "  </tbody>\n",
       "</table>\n",
       "</div>"
      ],
      "text/plain": [
       "              prcp\n",
       "count  2015.000000\n",
       "mean      0.176462\n",
       "std       0.460288\n",
       "min       0.000000\n",
       "25%       0.000000\n",
       "50%       0.020000\n",
       "75%       0.130000\n",
       "max       6.700000"
      ]
     },
     "execution_count": 57,
     "metadata": {},
     "output_type": "execute_result"
    }
   ],
   "source": [
    "# Use Pandas to calcualte the summary statistics for the precipitation data\n",
    "# not grouped mean values by day  \n",
    "yg_df = pd.DataFrame(year_ago_query)\n",
    "yg_df.describe()"
   ]
  },
  {
   "cell_type": "markdown",
   "metadata": {},
   "source": [
    "![describe](Images/describe.png)"
   ]
  },
  {
   "cell_type": "code",
   "execution_count": 70,
   "metadata": {},
   "outputs": [
    {
     "name": "stdout",
     "output_type": "stream",
     "text": [
      "Total number of stations: 9\n",
      "------------------------------\n",
      "Station ID: 1 | name: WAIKIKI 717.2, HI US\n",
      "Station ID: 2 | name: KANEOHE 838.1, HI US\n",
      "Station ID: 3 | name: KUALOA RANCH HEADQUARTERS 886.9, HI US\n",
      "Station ID: 4 | name: PEARL CITY, HI US\n",
      "Station ID: 5 | name: UPPER WAHIAWA 874.3, HI US\n",
      "Station ID: 6 | name: WAIMANALO EXPERIMENTAL FARM, HI US\n",
      "Station ID: 7 | name: WAIHEE 837.5, HI US\n",
      "Station ID: 8 | name: HONOLULU OBSERVATORY 702.2, HI US\n",
      "Station ID: 9 | name: MANOA LYON ARBO 785.2, HI US\n"
     ]
    }
   ],
   "source": [
    "# Design a query to show how many stations are available in this dataset?\n",
    "num_stations = session.query(Station).count()\n",
    "print(\"Total number of stations: \"+str(num_stations))\n",
    "print(\"------------------------------\")\n",
    "comment = '''\n",
    "--Station:\n",
    "id INTEGER\n",
    "station TEXT\n",
    "name TEXT\n",
    "latitude FLOAT\n",
    "longitude FLOAT\n",
    "elevation FLOAT\n",
    "'''\n",
    "\n",
    "stations = session.query(Station).all()\n",
    "for i in stations:\n",
    "    print( \"Station ID: \" + str(i.id) + \" | name: \" + i.name)"
   ]
  },
  {
   "cell_type": "code",
   "execution_count": 59,
   "metadata": {},
   "outputs": [
    {
     "data": {
      "text/html": [
       "<div>\n",
       "<style scoped>\n",
       "    .dataframe tbody tr th:only-of-type {\n",
       "        vertical-align: middle;\n",
       "    }\n",
       "\n",
       "    .dataframe tbody tr th {\n",
       "        vertical-align: top;\n",
       "    }\n",
       "\n",
       "    .dataframe thead th {\n",
       "        text-align: right;\n",
       "    }\n",
       "</style>\n",
       "<table border=\"1\" class=\"dataframe\">\n",
       "  <thead>\n",
       "    <tr style=\"text-align: right;\">\n",
       "      <th></th>\n",
       "      <th>id</th>\n",
       "      <th>Station Name</th>\n",
       "      <th>station</th>\n",
       "      <th>Number of Activities</th>\n",
       "    </tr>\n",
       "  </thead>\n",
       "  <tbody>\n",
       "    <tr>\n",
       "      <th>0</th>\n",
       "      <td>7</td>\n",
       "      <td>WAIHEE 837.5, HI US</td>\n",
       "      <td>USC00519281</td>\n",
       "      <td>2772</td>\n",
       "    </tr>\n",
       "    <tr>\n",
       "      <th>1</th>\n",
       "      <td>1</td>\n",
       "      <td>WAIKIKI 717.2, HI US</td>\n",
       "      <td>USC00519397</td>\n",
       "      <td>2724</td>\n",
       "    </tr>\n",
       "    <tr>\n",
       "      <th>2</th>\n",
       "      <td>2</td>\n",
       "      <td>KANEOHE 838.1, HI US</td>\n",
       "      <td>USC00513117</td>\n",
       "      <td>2709</td>\n",
       "    </tr>\n",
       "    <tr>\n",
       "      <th>3</th>\n",
       "      <td>6</td>\n",
       "      <td>WAIMANALO EXPERIMENTAL FARM, HI US</td>\n",
       "      <td>USC00519523</td>\n",
       "      <td>2669</td>\n",
       "    </tr>\n",
       "    <tr>\n",
       "      <th>4</th>\n",
       "      <td>9</td>\n",
       "      <td>MANOA LYON ARBO 785.2, HI US</td>\n",
       "      <td>USC00516128</td>\n",
       "      <td>2612</td>\n",
       "    </tr>\n",
       "    <tr>\n",
       "      <th>5</th>\n",
       "      <td>3</td>\n",
       "      <td>KUALOA RANCH HEADQUARTERS 886.9, HI US</td>\n",
       "      <td>USC00514830</td>\n",
       "      <td>2202</td>\n",
       "    </tr>\n",
       "    <tr>\n",
       "      <th>6</th>\n",
       "      <td>8</td>\n",
       "      <td>HONOLULU OBSERVATORY 702.2, HI US</td>\n",
       "      <td>USC00511918</td>\n",
       "      <td>1979</td>\n",
       "    </tr>\n",
       "    <tr>\n",
       "      <th>7</th>\n",
       "      <td>4</td>\n",
       "      <td>PEARL CITY, HI US</td>\n",
       "      <td>USC00517948</td>\n",
       "      <td>1372</td>\n",
       "    </tr>\n",
       "    <tr>\n",
       "      <th>8</th>\n",
       "      <td>5</td>\n",
       "      <td>UPPER WAHIAWA 874.3, HI US</td>\n",
       "      <td>USC00518838</td>\n",
       "      <td>511</td>\n",
       "    </tr>\n",
       "  </tbody>\n",
       "</table>\n",
       "</div>"
      ],
      "text/plain": [
       "   id                            Station Name      station  \\\n",
       "0   7                     WAIHEE 837.5, HI US  USC00519281   \n",
       "1   1                    WAIKIKI 717.2, HI US  USC00519397   \n",
       "2   2                    KANEOHE 838.1, HI US  USC00513117   \n",
       "3   6      WAIMANALO EXPERIMENTAL FARM, HI US  USC00519523   \n",
       "4   9            MANOA LYON ARBO 785.2, HI US  USC00516128   \n",
       "5   3  KUALOA RANCH HEADQUARTERS 886.9, HI US  USC00514830   \n",
       "6   8       HONOLULU OBSERVATORY 702.2, HI US  USC00511918   \n",
       "7   4                       PEARL CITY, HI US  USC00517948   \n",
       "8   5              UPPER WAHIAWA 874.3, HI US  USC00518838   \n",
       "\n",
       "   Number of Activities  \n",
       "0                  2772  \n",
       "1                  2724  \n",
       "2                  2709  \n",
       "3                  2669  \n",
       "4                  2612  \n",
       "5                  2202  \n",
       "6                  1979  \n",
       "7                  1372  \n",
       "8                   511  "
      ]
     },
     "execution_count": 59,
     "metadata": {},
     "output_type": "execute_result"
    }
   ],
   "source": [
    "# What are the most active stations? (i.e. what stations have the most rows)?\n",
    "# List the stations and the counts in descending order.\n",
    "active_stations = session.query(Station.id, Station.name, Station.station, func.count(\n",
    "    Measurement.station)).\\\n",
    "    filter(Measurement.station == Station.station).group_by(Station.name).statement\n",
    "\n",
    "active_stations_df = pd.read_sql(active_stations, engine)\n",
    "active_stations_df = active_stations_df.sort_values('count_1', ascending=False)\n",
    "active_stations_df = active_stations_df.reset_index()\n",
    "del active_stations_df['index']\n",
    "active_stations_df = \\\n",
    "    active_stations_df.rename({'name': 'Station Name', 'count_1': 'Number of Activities'}, axis=1)\n",
    "active_stations_df"
   ]
  },
  {
   "cell_type": "code",
   "execution_count": 60,
   "metadata": {},
   "outputs": [
    {
     "data": {
      "text/html": [
       "<div>\n",
       "<style scoped>\n",
       "    .dataframe tbody tr th:only-of-type {\n",
       "        vertical-align: middle;\n",
       "    }\n",
       "\n",
       "    .dataframe tbody tr th {\n",
       "        vertical-align: top;\n",
       "    }\n",
       "\n",
       "    .dataframe thead th {\n",
       "        text-align: right;\n",
       "    }\n",
       "</style>\n",
       "<table border=\"1\" class=\"dataframe\">\n",
       "  <thead>\n",
       "    <tr style=\"text-align: right;\">\n",
       "      <th></th>\n",
       "      <th>Min Temp</th>\n",
       "      <th>Max Temp</th>\n",
       "      <th>Avg Temp</th>\n",
       "    </tr>\n",
       "    <tr>\n",
       "      <th>Station Name</th>\n",
       "      <th></th>\n",
       "      <th></th>\n",
       "      <th></th>\n",
       "    </tr>\n",
       "  </thead>\n",
       "  <tbody>\n",
       "    <tr>\n",
       "      <th>WAIHEE 837.5, HI US</th>\n",
       "      <td>54.0</td>\n",
       "      <td>85.0</td>\n",
       "      <td>71.663781</td>\n",
       "    </tr>\n",
       "  </tbody>\n",
       "</table>\n",
       "</div>"
      ],
      "text/plain": [
       "                     Min Temp  Max Temp   Avg Temp\n",
       "Station Name                                      \n",
       "WAIHEE 837.5, HI US      54.0      85.0  71.663781"
      ]
     },
     "execution_count": 60,
     "metadata": {},
     "output_type": "execute_result"
    }
   ],
   "source": [
    "# Using the station id from the previous query, calculate the lowest temperature recorded, \n",
    "# highest temperature recorded, and average temperature most active station?\n",
    "\n",
    "temperatures = session.query(Station.name\\\n",
    "                             ,func.min(Measurement.tobs)\\\n",
    "                             ,func.max(Measurement.tobs)\\\n",
    "                             ,func.avg(Measurement.tobs))\\\n",
    "                            .filter(Measurement.station == Station.station)\\\n",
    "                            .filter(Station.station == 'USC00519281').statement\n",
    "\n",
    "temperatures_df = pd.read_sql(temperatures, engine)\n",
    "temperatures_df = temperatures_df.rename({'name':'Station Name'\\\n",
    "                                          , 'min_1':'Min Temp'\\\n",
    "                                          , 'max_1':'Max Temp'\\\n",
    "                                          , 'avg_1':'Avg Temp'}, axis=1)\n",
    "temperatures_df.set_index('Station Name')"
   ]
  },
  {
   "cell_type": "code",
   "execution_count": 72,
   "metadata": {},
   "outputs": [
    {
     "name": "stdout",
     "output_type": "stream",
     "text": [
      "[('WAIHEE 837.5, HI US', 'USC00519281', 77.0, '2016-08-24'), ('WAIHEE 837.5, HI US', 'USC00519281', 80.0, '2016-08-25'), ('WAIHEE 837.5, HI US', 'USC00519281', 80.0, '2016-08-26'), ('WAIHEE 837.5, HI US', 'USC00519281', 75.0, '2016-08-27'), ('WAIHEE 837.5, HI US', 'USC00519281', 73.0, '2016-08-28'), ('WAIHEE 837.5, HI US', 'USC00519281', 78.0, '2016-08-29'), ('WAIHEE 837.5, HI US', 'USC00519281', 77.0, '2016-08-30'), ('WAIHEE 837.5, HI US', 'USC00519281', 78.0, '2016-08-31'), ('WAIHEE 837.5, HI US', 'USC00519281', 80.0, '2016-09-01'), ('WAIHEE 837.5, HI US', 'USC00519281', 80.0, '2016-09-02'), ('WAIHEE 837.5, HI US', 'USC00519281', 78.0, '2016-09-03'), ('WAIHEE 837.5, HI US', 'USC00519281', 78.0, '2016-09-04'), ('WAIHEE 837.5, HI US', 'USC00519281', 78.0, '2016-09-05'), ('WAIHEE 837.5, HI US', 'USC00519281', 73.0, '2016-09-06'), ('WAIHEE 837.5, HI US', 'USC00519281', 74.0, '2016-09-07'), ('WAIHEE 837.5, HI US', 'USC00519281', 80.0, '2016-09-08'), ('WAIHEE 837.5, HI US', 'USC00519281', 79.0, '2016-09-09'), ('WAIHEE 837.5, HI US', 'USC00519281', 77.0, '2016-09-10'), ('WAIHEE 837.5, HI US', 'USC00519281', 80.0, '2016-09-11'), ('WAIHEE 837.5, HI US', 'USC00519281', 76.0, '2016-09-12'), ('WAIHEE 837.5, HI US', 'USC00519281', 79.0, '2016-09-13'), ('WAIHEE 837.5, HI US', 'USC00519281', 75.0, '2016-09-14'), ('WAIHEE 837.5, HI US', 'USC00519281', 79.0, '2016-09-15'), ('WAIHEE 837.5, HI US', 'USC00519281', 78.0, '2016-09-16'), ('WAIHEE 837.5, HI US', 'USC00519281', 79.0, '2016-09-17'), ('WAIHEE 837.5, HI US', 'USC00519281', 78.0, '2016-09-18'), ('WAIHEE 837.5, HI US', 'USC00519281', 78.0, '2016-09-19'), ('WAIHEE 837.5, HI US', 'USC00519281', 76.0, '2016-09-20'), ('WAIHEE 837.5, HI US', 'USC00519281', 74.0, '2016-09-21'), ('WAIHEE 837.5, HI US', 'USC00519281', 77.0, '2016-09-22'), ('WAIHEE 837.5, HI US', 'USC00519281', 78.0, '2016-09-23'), ('WAIHEE 837.5, HI US', 'USC00519281', 79.0, '2016-09-24'), ('WAIHEE 837.5, HI US', 'USC00519281', 79.0, '2016-09-25'), ('WAIHEE 837.5, HI US', 'USC00519281', 77.0, '2016-09-26'), ('WAIHEE 837.5, HI US', 'USC00519281', 80.0, '2016-09-27'), ('WAIHEE 837.5, HI US', 'USC00519281', 78.0, '2016-09-28'), ('WAIHEE 837.5, HI US', 'USC00519281', 78.0, '2016-09-29'), ('WAIHEE 837.5, HI US', 'USC00519281', 78.0, '2016-09-30'), ('WAIHEE 837.5, HI US', 'USC00519281', 77.0, '2016-10-01'), ('WAIHEE 837.5, HI US', 'USC00519281', 79.0, '2016-10-02'), ('WAIHEE 837.5, HI US', 'USC00519281', 79.0, '2016-10-03'), ('WAIHEE 837.5, HI US', 'USC00519281', 79.0, '2016-10-04'), ('WAIHEE 837.5, HI US', 'USC00519281', 79.0, '2016-10-05'), ('WAIHEE 837.5, HI US', 'USC00519281', 75.0, '2016-10-06'), ('WAIHEE 837.5, HI US', 'USC00519281', 76.0, '2016-10-07'), ('WAIHEE 837.5, HI US', 'USC00519281', 73.0, '2016-10-08'), ('WAIHEE 837.5, HI US', 'USC00519281', 72.0, '2016-10-09'), ('WAIHEE 837.5, HI US', 'USC00519281', 71.0, '2016-10-10'), ('WAIHEE 837.5, HI US', 'USC00519281', 77.0, '2016-10-11'), ('WAIHEE 837.5, HI US', 'USC00519281', 79.0, '2016-10-12'), ('WAIHEE 837.5, HI US', 'USC00519281', 78.0, '2016-10-13'), ('WAIHEE 837.5, HI US', 'USC00519281', 79.0, '2016-10-14'), ('WAIHEE 837.5, HI US', 'USC00519281', 77.0, '2016-10-15'), ('WAIHEE 837.5, HI US', 'USC00519281', 79.0, '2016-10-16'), ('WAIHEE 837.5, HI US', 'USC00519281', 77.0, '2016-10-17'), ('WAIHEE 837.5, HI US', 'USC00519281', 78.0, '2016-10-18'), ('WAIHEE 837.5, HI US', 'USC00519281', 78.0, '2016-10-19'), ('WAIHEE 837.5, HI US', 'USC00519281', 78.0, '2016-10-20'), ('WAIHEE 837.5, HI US', 'USC00519281', 78.0, '2016-10-21'), ('WAIHEE 837.5, HI US', 'USC00519281', 77.0, '2016-10-22'), ('WAIHEE 837.5, HI US', 'USC00519281', 74.0, '2016-10-23'), ('WAIHEE 837.5, HI US', 'USC00519281', 75.0, '2016-10-24'), ('WAIHEE 837.5, HI US', 'USC00519281', 76.0, '2016-10-25'), ('WAIHEE 837.5, HI US', 'USC00519281', 73.0, '2016-10-26'), ('WAIHEE 837.5, HI US', 'USC00519281', 76.0, '2016-10-27'), ('WAIHEE 837.5, HI US', 'USC00519281', 74.0, '2016-10-28'), ('WAIHEE 837.5, HI US', 'USC00519281', 77.0, '2016-10-29'), ('WAIHEE 837.5, HI US', 'USC00519281', 76.0, '2016-10-30'), ('WAIHEE 837.5, HI US', 'USC00519281', 76.0, '2016-10-31'), ('WAIHEE 837.5, HI US', 'USC00519281', 74.0, '2016-11-01'), ('WAIHEE 837.5, HI US', 'USC00519281', 75.0, '2016-11-02'), ('WAIHEE 837.5, HI US', 'USC00519281', 75.0, '2016-11-03'), ('WAIHEE 837.5, HI US', 'USC00519281', 75.0, '2016-11-04'), ('WAIHEE 837.5, HI US', 'USC00519281', 75.0, '2016-11-05'), ('WAIHEE 837.5, HI US', 'USC00519281', 71.0, '2016-11-06'), ('WAIHEE 837.5, HI US', 'USC00519281', 63.0, '2016-11-07'), ('WAIHEE 837.5, HI US', 'USC00519281', 70.0, '2016-11-08'), ('WAIHEE 837.5, HI US', 'USC00519281', 68.0, '2016-11-09'), ('WAIHEE 837.5, HI US', 'USC00519281', 67.0, '2016-11-10'), ('WAIHEE 837.5, HI US', 'USC00519281', 77.0, '2016-11-11'), ('WAIHEE 837.5, HI US', 'USC00519281', 74.0, '2016-11-12'), ('WAIHEE 837.5, HI US', 'USC00519281', 77.0, '2016-11-13'), ('WAIHEE 837.5, HI US', 'USC00519281', 76.0, '2016-11-14'), ('WAIHEE 837.5, HI US', 'USC00519281', 76.0, '2016-11-15'), ('WAIHEE 837.5, HI US', 'USC00519281', 75.0, '2016-11-16'), ('WAIHEE 837.5, HI US', 'USC00519281', 76.0, '2016-11-17'), ('WAIHEE 837.5, HI US', 'USC00519281', 75.0, '2016-11-18'), ('WAIHEE 837.5, HI US', 'USC00519281', 73.0, '2016-11-19'), ('WAIHEE 837.5, HI US', 'USC00519281', 75.0, '2016-11-20'), ('WAIHEE 837.5, HI US', 'USC00519281', 73.0, '2016-11-21'), ('WAIHEE 837.5, HI US', 'USC00519281', 75.0, '2016-11-22'), ('WAIHEE 837.5, HI US', 'USC00519281', 74.0, '2016-11-23'), ('WAIHEE 837.5, HI US', 'USC00519281', 75.0, '2016-11-24'), ('WAIHEE 837.5, HI US', 'USC00519281', 74.0, '2016-11-25'), ('WAIHEE 837.5, HI US', 'USC00519281', 75.0, '2016-11-26'), ('WAIHEE 837.5, HI US', 'USC00519281', 73.0, '2016-11-27'), ('WAIHEE 837.5, HI US', 'USC00519281', 75.0, '2016-11-28'), ('WAIHEE 837.5, HI US', 'USC00519281', 73.0, '2016-11-29'), ('WAIHEE 837.5, HI US', 'USC00519281', 73.0, '2016-11-30'), ('WAIHEE 837.5, HI US', 'USC00519281', 74.0, '2016-12-01'), ('WAIHEE 837.5, HI US', 'USC00519281', 70.0, '2016-12-02'), ('WAIHEE 837.5, HI US', 'USC00519281', 72.0, '2016-12-03'), ('WAIHEE 837.5, HI US', 'USC00519281', 70.0, '2016-12-04'), ('WAIHEE 837.5, HI US', 'USC00519281', 67.0, '2016-12-05'), ('WAIHEE 837.5, HI US', 'USC00519281', 67.0, '2016-12-06'), ('WAIHEE 837.5, HI US', 'USC00519281', 69.0, '2016-12-07'), ('WAIHEE 837.5, HI US', 'USC00519281', 70.0, '2016-12-08'), ('WAIHEE 837.5, HI US', 'USC00519281', 68.0, '2016-12-09'), ('WAIHEE 837.5, HI US', 'USC00519281', 69.0, '2016-12-10'), ('WAIHEE 837.5, HI US', 'USC00519281', 69.0, '2016-12-11'), ('WAIHEE 837.5, HI US', 'USC00519281', 66.0, '2016-12-12'), ('WAIHEE 837.5, HI US', 'USC00519281', 65.0, '2016-12-13'), ('WAIHEE 837.5, HI US', 'USC00519281', 68.0, '2016-12-14'), ('WAIHEE 837.5, HI US', 'USC00519281', 62.0, '2016-12-15'), ('WAIHEE 837.5, HI US', 'USC00519281', 75.0, '2016-12-16'), ('WAIHEE 837.5, HI US', 'USC00519281', 70.0, '2016-12-17'), ('WAIHEE 837.5, HI US', 'USC00519281', 69.0, '2016-12-18'), ('WAIHEE 837.5, HI US', 'USC00519281', 76.0, '2016-12-19'), ('WAIHEE 837.5, HI US', 'USC00519281', 76.0, '2016-12-20'), ('WAIHEE 837.5, HI US', 'USC00519281', 74.0, '2016-12-21'), ('WAIHEE 837.5, HI US', 'USC00519281', 73.0, '2016-12-22'), ('WAIHEE 837.5, HI US', 'USC00519281', 71.0, '2016-12-23'), ('WAIHEE 837.5, HI US', 'USC00519281', 74.0, '2016-12-24'), ('WAIHEE 837.5, HI US', 'USC00519281', 74.0, '2016-12-25'), ('WAIHEE 837.5, HI US', 'USC00519281', 72.0, '2016-12-26'), ('WAIHEE 837.5, HI US', 'USC00519281', 71.0, '2016-12-27'), ('WAIHEE 837.5, HI US', 'USC00519281', 72.0, '2016-12-28'), ('WAIHEE 837.5, HI US', 'USC00519281', 74.0, '2016-12-29'), ('WAIHEE 837.5, HI US', 'USC00519281', 69.0, '2016-12-30'), ('WAIHEE 837.5, HI US', 'USC00519281', 67.0, '2016-12-31'), ('WAIHEE 837.5, HI US', 'USC00519281', 72.0, '2017-01-01'), ('WAIHEE 837.5, HI US', 'USC00519281', 70.0, '2017-01-02'), ('WAIHEE 837.5, HI US', 'USC00519281', 64.0, '2017-01-03'), ('WAIHEE 837.5, HI US', 'USC00519281', 63.0, '2017-01-04'), ('WAIHEE 837.5, HI US', 'USC00519281', 63.0, '2017-01-05'), ('WAIHEE 837.5, HI US', 'USC00519281', 62.0, '2017-01-06'), ('WAIHEE 837.5, HI US', 'USC00519281', 70.0, '2017-01-07'), ('WAIHEE 837.5, HI US', 'USC00519281', 70.0, '2017-01-08'), ('WAIHEE 837.5, HI US', 'USC00519281', 62.0, '2017-01-09'), ('WAIHEE 837.5, HI US', 'USC00519281', 62.0, '2017-01-10'), ('WAIHEE 837.5, HI US', 'USC00519281', 63.0, '2017-01-11'), ('WAIHEE 837.5, HI US', 'USC00519281', 65.0, '2017-01-12'), ('WAIHEE 837.5, HI US', 'USC00519281', 69.0, '2017-01-13'), ('WAIHEE 837.5, HI US', 'USC00519281', 77.0, '2017-01-14'), ('WAIHEE 837.5, HI US', 'USC00519281', 70.0, '2017-01-15'), ('WAIHEE 837.5, HI US', 'USC00519281', 74.0, '2017-01-16'), ('WAIHEE 837.5, HI US', 'USC00519281', 69.0, '2017-01-17'), ('WAIHEE 837.5, HI US', 'USC00519281', 72.0, '2017-01-18'), ('WAIHEE 837.5, HI US', 'USC00519281', 71.0, '2017-01-19'), ('WAIHEE 837.5, HI US', 'USC00519281', 69.0, '2017-01-20'), ('WAIHEE 837.5, HI US', 'USC00519281', 71.0, '2017-01-21'), ('WAIHEE 837.5, HI US', 'USC00519281', 71.0, '2017-01-22'), ('WAIHEE 837.5, HI US', 'USC00519281', 72.0, '2017-01-23'), ('WAIHEE 837.5, HI US', 'USC00519281', 72.0, '2017-01-24'), ('WAIHEE 837.5, HI US', 'USC00519281', 69.0, '2017-01-25'), ('WAIHEE 837.5, HI US', 'USC00519281', 70.0, '2017-01-26'), ('WAIHEE 837.5, HI US', 'USC00519281', 66.0, '2017-01-27'), ('WAIHEE 837.5, HI US', 'USC00519281', 65.0, '2017-01-28'), ('WAIHEE 837.5, HI US', 'USC00519281', 69.0, '2017-01-29'), ('WAIHEE 837.5, HI US', 'USC00519281', 68.0, '2017-01-30'), ('WAIHEE 837.5, HI US', 'USC00519281', 68.0, '2017-01-31'), ('WAIHEE 837.5, HI US', 'USC00519281', 68.0, '2017-02-01'), ('WAIHEE 837.5, HI US', 'USC00519281', 59.0, '2017-02-02'), ('WAIHEE 837.5, HI US', 'USC00519281', 60.0, '2017-02-03'), ('WAIHEE 837.5, HI US', 'USC00519281', 70.0, '2017-02-04'), ('WAIHEE 837.5, HI US', 'USC00519281', 73.0, '2017-02-05'), ('WAIHEE 837.5, HI US', 'USC00519281', 75.0, '2017-02-06'), ('WAIHEE 837.5, HI US', 'USC00519281', 64.0, '2017-02-07'), ('WAIHEE 837.5, HI US', 'USC00519281', 59.0, '2017-02-08'), ('WAIHEE 837.5, HI US', 'USC00519281', 59.0, '2017-02-09'), ('WAIHEE 837.5, HI US', 'USC00519281', 62.0, '2017-02-10'), ('WAIHEE 837.5, HI US', 'USC00519281', 68.0, '2017-02-11'), ('WAIHEE 837.5, HI US', 'USC00519281', 70.0, '2017-02-12'), ('WAIHEE 837.5, HI US', 'USC00519281', 73.0, '2017-02-13'), ('WAIHEE 837.5, HI US', 'USC00519281', 79.0, '2017-02-14'), ('WAIHEE 837.5, HI US', 'USC00519281', 75.0, '2017-02-15'), ('WAIHEE 837.5, HI US', 'USC00519281', 65.0, '2017-02-16'), ('WAIHEE 837.5, HI US', 'USC00519281', 70.0, '2017-02-17'), ('WAIHEE 837.5, HI US', 'USC00519281', 74.0, '2017-02-18'), ('WAIHEE 837.5, HI US', 'USC00519281', 70.0, '2017-02-19'), ('WAIHEE 837.5, HI US', 'USC00519281', 70.0, '2017-02-20'), ('WAIHEE 837.5, HI US', 'USC00519281', 71.0, '2017-02-21'), ('WAIHEE 837.5, HI US', 'USC00519281', 71.0, '2017-02-22'), ('WAIHEE 837.5, HI US', 'USC00519281', 71.0, '2017-02-23'), ('WAIHEE 837.5, HI US', 'USC00519281', 69.0, '2017-02-24'), ('WAIHEE 837.5, HI US', 'USC00519281', 61.0, '2017-02-25'), ('WAIHEE 837.5, HI US', 'USC00519281', 67.0, '2017-02-26'), ('WAIHEE 837.5, HI US', 'USC00519281', 65.0, '2017-02-27'), ('WAIHEE 837.5, HI US', 'USC00519281', 72.0, '2017-02-28'), ('WAIHEE 837.5, HI US', 'USC00519281', 71.0, '2017-03-01'), ('WAIHEE 837.5, HI US', 'USC00519281', 73.0, '2017-03-02'), ('WAIHEE 837.5, HI US', 'USC00519281', 72.0, '2017-03-03'), ('WAIHEE 837.5, HI US', 'USC00519281', 77.0, '2017-03-04'), ('WAIHEE 837.5, HI US', 'USC00519281', 73.0, '2017-03-05'), ('WAIHEE 837.5, HI US', 'USC00519281', 67.0, '2017-03-06'), ('WAIHEE 837.5, HI US', 'USC00519281', 62.0, '2017-03-07'), ('WAIHEE 837.5, HI US', 'USC00519281', 64.0, '2017-03-08'), ('WAIHEE 837.5, HI US', 'USC00519281', 67.0, '2017-03-09'), ('WAIHEE 837.5, HI US', 'USC00519281', 66.0, '2017-03-10'), ('WAIHEE 837.5, HI US', 'USC00519281', 81.0, '2017-03-11'), ('WAIHEE 837.5, HI US', 'USC00519281', 69.0, '2017-03-12'), ('WAIHEE 837.5, HI US', 'USC00519281', 66.0, '2017-03-13'), ('WAIHEE 837.5, HI US', 'USC00519281', 67.0, '2017-03-14'), ('WAIHEE 837.5, HI US', 'USC00519281', 69.0, '2017-03-15'), ('WAIHEE 837.5, HI US', 'USC00519281', 66.0, '2017-03-16'), ('WAIHEE 837.5, HI US', 'USC00519281', 68.0, '2017-03-17'), ('WAIHEE 837.5, HI US', 'USC00519281', 65.0, '2017-03-18'), ('WAIHEE 837.5, HI US', 'USC00519281', 74.0, '2017-03-19'), ('WAIHEE 837.5, HI US', 'USC00519281', 69.0, '2017-03-20'), ('WAIHEE 837.5, HI US', 'USC00519281', 72.0, '2017-03-21'), ('WAIHEE 837.5, HI US', 'USC00519281', 73.0, '2017-03-22'), ('WAIHEE 837.5, HI US', 'USC00519281', 72.0, '2017-03-23'), ('WAIHEE 837.5, HI US', 'USC00519281', 71.0, '2017-03-24'), ('WAIHEE 837.5, HI US', 'USC00519281', 76.0, '2017-03-25'), ('WAIHEE 837.5, HI US', 'USC00519281', 77.0, '2017-03-26'), ('WAIHEE 837.5, HI US', 'USC00519281', 76.0, '2017-03-27'), ('WAIHEE 837.5, HI US', 'USC00519281', 74.0, '2017-03-28'), ('WAIHEE 837.5, HI US', 'USC00519281', 68.0, '2017-03-29'), ('WAIHEE 837.5, HI US', 'USC00519281', 73.0, '2017-03-30'), ('WAIHEE 837.5, HI US', 'USC00519281', 71.0, '2017-03-31'), ('WAIHEE 837.5, HI US', 'USC00519281', 74.0, '2017-04-01'), ('WAIHEE 837.5, HI US', 'USC00519281', 75.0, '2017-04-02'), ('WAIHEE 837.5, HI US', 'USC00519281', 70.0, '2017-04-03'), ('WAIHEE 837.5, HI US', 'USC00519281', 67.0, '2017-04-04'), ('WAIHEE 837.5, HI US', 'USC00519281', 71.0, '2017-04-05'), ('WAIHEE 837.5, HI US', 'USC00519281', 67.0, '2017-04-06'), ('WAIHEE 837.5, HI US', 'USC00519281', 74.0, '2017-04-07'), ('WAIHEE 837.5, HI US', 'USC00519281', 77.0, '2017-04-08'), ('WAIHEE 837.5, HI US', 'USC00519281', 78.0, '2017-04-09'), ('WAIHEE 837.5, HI US', 'USC00519281', 67.0, '2017-04-10'), ('WAIHEE 837.5, HI US', 'USC00519281', 70.0, '2017-04-11'), ('WAIHEE 837.5, HI US', 'USC00519281', 69.0, '2017-04-12'), ('WAIHEE 837.5, HI US', 'USC00519281', 69.0, '2017-04-13'), ('WAIHEE 837.5, HI US', 'USC00519281', 74.0, '2017-04-14'), ('WAIHEE 837.5, HI US', 'USC00519281', 78.0, '2017-04-15'), ('WAIHEE 837.5, HI US', 'USC00519281', 71.0, '2017-04-16'), ('WAIHEE 837.5, HI US', 'USC00519281', 67.0, '2017-04-17'), ('WAIHEE 837.5, HI US', 'USC00519281', 68.0, '2017-04-18'), ('WAIHEE 837.5, HI US', 'USC00519281', 67.0, '2017-04-19'), ('WAIHEE 837.5, HI US', 'USC00519281', 76.0, '2017-04-20'), ('WAIHEE 837.5, HI US', 'USC00519281', 69.0, '2017-04-21'), ('WAIHEE 837.5, HI US', 'USC00519281', 72.0, '2017-04-22'), ('WAIHEE 837.5, HI US', 'USC00519281', 76.0, '2017-04-23'), ('WAIHEE 837.5, HI US', 'USC00519281', 68.0, '2017-04-24'), ('WAIHEE 837.5, HI US', 'USC00519281', 72.0, '2017-04-25'), ('WAIHEE 837.5, HI US', 'USC00519281', 74.0, '2017-04-26'), ('WAIHEE 837.5, HI US', 'USC00519281', 70.0, '2017-04-27'), ('WAIHEE 837.5, HI US', 'USC00519281', 67.0, '2017-04-28'), ('WAIHEE 837.5, HI US', 'USC00519281', 72.0, '2017-04-29'), ('WAIHEE 837.5, HI US', 'USC00519281', 60.0, '2017-04-30'), ('WAIHEE 837.5, HI US', 'USC00519281', 65.0, '2017-05-01'), ('WAIHEE 837.5, HI US', 'USC00519281', 75.0, '2017-05-02'), ('WAIHEE 837.5, HI US', 'USC00519281', 70.0, '2017-05-03'), ('WAIHEE 837.5, HI US', 'USC00519281', 75.0, '2017-05-04'), ('WAIHEE 837.5, HI US', 'USC00519281', 70.0, '2017-05-05'), ('WAIHEE 837.5, HI US', 'USC00519281', 79.0, '2017-05-06'), ('WAIHEE 837.5, HI US', 'USC00519281', 75.0, '2017-05-07'), ('WAIHEE 837.5, HI US', 'USC00519281', 70.0, '2017-05-08'), ('WAIHEE 837.5, HI US', 'USC00519281', 67.0, '2017-05-09'), ('WAIHEE 837.5, HI US', 'USC00519281', 74.0, '2017-05-10'), ('WAIHEE 837.5, HI US', 'USC00519281', 70.0, '2017-05-11'), ('WAIHEE 837.5, HI US', 'USC00519281', 75.0, '2017-05-12'), ('WAIHEE 837.5, HI US', 'USC00519281', 76.0, '2017-05-13'), ('WAIHEE 837.5, HI US', 'USC00519281', 77.0, '2017-05-14'), ('WAIHEE 837.5, HI US', 'USC00519281', 74.0, '2017-05-15'), ('WAIHEE 837.5, HI US', 'USC00519281', 74.0, '2017-05-16'), ('WAIHEE 837.5, HI US', 'USC00519281', 74.0, '2017-05-17'), ('WAIHEE 837.5, HI US', 'USC00519281', 69.0, '2017-05-18'), ('WAIHEE 837.5, HI US', 'USC00519281', 68.0, '2017-05-19'), ('WAIHEE 837.5, HI US', 'USC00519281', 76.0, '2017-05-20'), ('WAIHEE 837.5, HI US', 'USC00519281', 74.0, '2017-05-21'), ('WAIHEE 837.5, HI US', 'USC00519281', 71.0, '2017-05-22'), ('WAIHEE 837.5, HI US', 'USC00519281', 71.0, '2017-05-23'), ('WAIHEE 837.5, HI US', 'USC00519281', 74.0, '2017-05-24'), ('WAIHEE 837.5, HI US', 'USC00519281', 74.0, '2017-05-25'), ('WAIHEE 837.5, HI US', 'USC00519281', 74.0, '2017-05-26'), ('WAIHEE 837.5, HI US', 'USC00519281', 74.0, '2017-05-27'), ('WAIHEE 837.5, HI US', 'USC00519281', 80.0, '2017-05-28'), ('WAIHEE 837.5, HI US', 'USC00519281', 74.0, '2017-05-29'), ('WAIHEE 837.5, HI US', 'USC00519281', 72.0, '2017-05-30'), ('WAIHEE 837.5, HI US', 'USC00519281', 75.0, '2017-05-31'), ('WAIHEE 837.5, HI US', 'USC00519281', 80.0, '2017-06-01'), ('WAIHEE 837.5, HI US', 'USC00519281', 76.0, '2017-06-02'), ('WAIHEE 837.5, HI US', 'USC00519281', 76.0, '2017-06-03'), ('WAIHEE 837.5, HI US', 'USC00519281', 77.0, '2017-06-04'), ('WAIHEE 837.5, HI US', 'USC00519281', 75.0, '2017-06-05'), ('WAIHEE 837.5, HI US', 'USC00519281', 75.0, '2017-06-06'), ('WAIHEE 837.5, HI US', 'USC00519281', 75.0, '2017-06-07'), ('WAIHEE 837.5, HI US', 'USC00519281', 75.0, '2017-06-08'), ('WAIHEE 837.5, HI US', 'USC00519281', 72.0, '2017-06-09'), ('WAIHEE 837.5, HI US', 'USC00519281', 74.0, '2017-06-10'), ('WAIHEE 837.5, HI US', 'USC00519281', 74.0, '2017-06-11'), ('WAIHEE 837.5, HI US', 'USC00519281', 74.0, '2017-06-12'), ('WAIHEE 837.5, HI US', 'USC00519281', 76.0, '2017-06-13'), ('WAIHEE 837.5, HI US', 'USC00519281', 74.0, '2017-06-14'), ('WAIHEE 837.5, HI US', 'USC00519281', 75.0, '2017-06-15'), ('WAIHEE 837.5, HI US', 'USC00519281', 73.0, '2017-06-16'), ('WAIHEE 837.5, HI US', 'USC00519281', 79.0, '2017-06-17'), ('WAIHEE 837.5, HI US', 'USC00519281', 75.0, '2017-06-18'), ('WAIHEE 837.5, HI US', 'USC00519281', 72.0, '2017-06-19'), ('WAIHEE 837.5, HI US', 'USC00519281', 72.0, '2017-06-20'), ('WAIHEE 837.5, HI US', 'USC00519281', 74.0, '2017-06-21'), ('WAIHEE 837.5, HI US', 'USC00519281', 72.0, '2017-06-22'), ('WAIHEE 837.5, HI US', 'USC00519281', 72.0, '2017-06-23'), ('WAIHEE 837.5, HI US', 'USC00519281', 77.0, '2017-06-24'), ('WAIHEE 837.5, HI US', 'USC00519281', 71.0, '2017-06-25'), ('WAIHEE 837.5, HI US', 'USC00519281', 73.0, '2017-06-26'), ('WAIHEE 837.5, HI US', 'USC00519281', 76.0, '2017-06-27'), ('WAIHEE 837.5, HI US', 'USC00519281', 77.0, '2017-06-28'), ('WAIHEE 837.5, HI US', 'USC00519281', 76.0, '2017-06-29'), ('WAIHEE 837.5, HI US', 'USC00519281', 76.0, '2017-06-30'), ('WAIHEE 837.5, HI US', 'USC00519281', 79.0, '2017-07-01'), ('WAIHEE 837.5, HI US', 'USC00519281', 81.0, '2017-07-02'), ('WAIHEE 837.5, HI US', 'USC00519281', 76.0, '2017-07-03'), ('WAIHEE 837.5, HI US', 'USC00519281', 78.0, '2017-07-04'), ('WAIHEE 837.5, HI US', 'USC00519281', 77.0, '2017-07-05'), ('WAIHEE 837.5, HI US', 'USC00519281', 74.0, '2017-07-06'), ('WAIHEE 837.5, HI US', 'USC00519281', 75.0, '2017-07-07'), ('WAIHEE 837.5, HI US', 'USC00519281', 78.0, '2017-07-08'), ('WAIHEE 837.5, HI US', 'USC00519281', 78.0, '2017-07-09'), ('WAIHEE 837.5, HI US', 'USC00519281', 69.0, '2017-07-10'), ('WAIHEE 837.5, HI US', 'USC00519281', 72.0, '2017-07-11'), ('WAIHEE 837.5, HI US', 'USC00519281', 74.0, '2017-07-12'), ('WAIHEE 837.5, HI US', 'USC00519281', 74.0, '2017-07-13'), ('WAIHEE 837.5, HI US', 'USC00519281', 76.0, '2017-07-14'), ('WAIHEE 837.5, HI US', 'USC00519281', 80.0, '2017-07-15'), ('WAIHEE 837.5, HI US', 'USC00519281', 80.0, '2017-07-16'), ('WAIHEE 837.5, HI US', 'USC00519281', 76.0, '2017-07-17'), ('WAIHEE 837.5, HI US', 'USC00519281', 76.0, '2017-07-18'), ('WAIHEE 837.5, HI US', 'USC00519281', 76.0, '2017-07-19'), ('WAIHEE 837.5, HI US', 'USC00519281', 77.0, '2017-07-20'), ('WAIHEE 837.5, HI US', 'USC00519281', 77.0, '2017-07-21'), ('WAIHEE 837.5, HI US', 'USC00519281', 77.0, '2017-07-22'), ('WAIHEE 837.5, HI US', 'USC00519281', 82.0, '2017-07-23'), ('WAIHEE 837.5, HI US', 'USC00519281', 75.0, '2017-07-24'), ('WAIHEE 837.5, HI US', 'USC00519281', 77.0, '2017-07-25'), ('WAIHEE 837.5, HI US', 'USC00519281', 75.0, '2017-07-26'), ('WAIHEE 837.5, HI US', 'USC00519281', 76.0, '2017-07-27'), ('WAIHEE 837.5, HI US', 'USC00519281', 81.0, '2017-07-28'), ('WAIHEE 837.5, HI US', 'USC00519281', 82.0, '2017-07-29'), ('WAIHEE 837.5, HI US', 'USC00519281', 81.0, '2017-07-30'), ('WAIHEE 837.5, HI US', 'USC00519281', 76.0, '2017-07-31'), ('WAIHEE 837.5, HI US', 'USC00519281', 77.0, '2017-08-04'), ('WAIHEE 837.5, HI US', 'USC00519281', 82.0, '2017-08-05'), ('WAIHEE 837.5, HI US', 'USC00519281', 83.0, '2017-08-06'), ('WAIHEE 837.5, HI US', 'USC00519281', 77.0, '2017-08-13'), ('WAIHEE 837.5, HI US', 'USC00519281', 77.0, '2017-08-14'), ('WAIHEE 837.5, HI US', 'USC00519281', 77.0, '2017-08-15'), ('WAIHEE 837.5, HI US', 'USC00519281', 76.0, '2017-08-16'), ('WAIHEE 837.5, HI US', 'USC00519281', 76.0, '2017-08-17'), ('WAIHEE 837.5, HI US', 'USC00519281', 79.0, '2017-08-18')]\n",
      "[77.0, 80.0, 80.0, 75.0, 73.0, 78.0, 77.0, 78.0, 80.0, 80.0, 78.0, 78.0, 78.0, 73.0, 74.0, 80.0, 79.0, 77.0, 80.0, 76.0, 79.0, 75.0, 79.0, 78.0, 79.0, 78.0, 78.0, 76.0, 74.0, 77.0, 78.0, 79.0, 79.0, 77.0, 80.0, 78.0, 78.0, 78.0, 77.0, 79.0, 79.0, 79.0, 79.0, 75.0, 76.0, 73.0, 72.0, 71.0, 77.0, 79.0, 78.0, 79.0, 77.0, 79.0, 77.0, 78.0, 78.0, 78.0, 78.0, 77.0, 74.0, 75.0, 76.0, 73.0, 76.0, 74.0, 77.0, 76.0, 76.0, 74.0, 75.0, 75.0, 75.0, 75.0, 71.0, 63.0, 70.0, 68.0, 67.0, 77.0, 74.0, 77.0, 76.0, 76.0, 75.0, 76.0, 75.0, 73.0, 75.0, 73.0, 75.0, 74.0, 75.0, 74.0, 75.0, 73.0, 75.0, 73.0, 73.0, 74.0, 70.0, 72.0, 70.0, 67.0, 67.0, 69.0, 70.0, 68.0, 69.0, 69.0, 66.0, 65.0, 68.0, 62.0, 75.0, 70.0, 69.0, 76.0, 76.0, 74.0, 73.0, 71.0, 74.0, 74.0, 72.0, 71.0, 72.0, 74.0, 69.0, 67.0, 72.0, 70.0, 64.0, 63.0, 63.0, 62.0, 70.0, 70.0, 62.0, 62.0, 63.0, 65.0, 69.0, 77.0, 70.0, 74.0, 69.0, 72.0, 71.0, 69.0, 71.0, 71.0, 72.0, 72.0, 69.0, 70.0, 66.0, 65.0, 69.0, 68.0, 68.0, 68.0, 59.0, 60.0, 70.0, 73.0, 75.0, 64.0, 59.0, 59.0, 62.0, 68.0, 70.0, 73.0, 79.0, 75.0, 65.0, 70.0, 74.0, 70.0, 70.0, 71.0, 71.0, 71.0, 69.0, 61.0, 67.0, 65.0, 72.0, 71.0, 73.0, 72.0, 77.0, 73.0, 67.0, 62.0, 64.0, 67.0, 66.0, 81.0, 69.0, 66.0, 67.0, 69.0, 66.0, 68.0, 65.0, 74.0, 69.0, 72.0, 73.0, 72.0, 71.0, 76.0, 77.0, 76.0, 74.0, 68.0, 73.0, 71.0, 74.0, 75.0, 70.0, 67.0, 71.0, 67.0, 74.0, 77.0, 78.0, 67.0, 70.0, 69.0, 69.0, 74.0, 78.0, 71.0, 67.0, 68.0, 67.0, 76.0, 69.0, 72.0, 76.0, 68.0, 72.0, 74.0, 70.0, 67.0, 72.0, 60.0, 65.0, 75.0, 70.0, 75.0, 70.0, 79.0, 75.0, 70.0, 67.0, 74.0, 70.0, 75.0, 76.0, 77.0, 74.0, 74.0, 74.0, 69.0, 68.0, 76.0, 74.0, 71.0, 71.0, 74.0, 74.0, 74.0, 74.0, 80.0, 74.0, 72.0, 75.0, 80.0, 76.0, 76.0, 77.0, 75.0, 75.0, 75.0, 75.0, 72.0, 74.0, 74.0, 74.0, 76.0, 74.0, 75.0, 73.0, 79.0, 75.0, 72.0, 72.0, 74.0, 72.0, 72.0, 77.0, 71.0, 73.0, 76.0, 77.0, 76.0, 76.0, 79.0, 81.0, 76.0, 78.0, 77.0, 74.0, 75.0, 78.0, 78.0, 69.0, 72.0, 74.0, 74.0, 76.0, 80.0, 80.0, 76.0, 76.0, 76.0, 77.0, 77.0, 77.0, 82.0, 75.0, 77.0, 75.0, 76.0, 81.0, 82.0, 81.0, 76.0, 77.0, 82.0, 83.0, 77.0, 77.0, 77.0, 76.0, 76.0, 79.0]\n"
     ]
    },
    {
     "data": {
      "image/png": "[encoded data removed]",
      "text/plain": [
       "<Figure size 700x500 with 1 Axes>"
      ]
     },
     "metadata": {},
     "output_type": "display_data"
    }
   ],
   "source": [
    "# Choose the station with the highest number of temperature observations.\n",
    "# Query the last 12 months of temperature observation data for this station and plot the results as a histogram\n",
    "\n",
    "latest_date_for_station, = session.query(Measurement.date)\\\n",
    "                        .filter(Station.station == 'USC00519281')\\\n",
    "                        .order_by(Measurement.date.desc()).first()\n",
    "latest_date_for_station_dt = dt.datetime.strptime(latest_date_for_station, '%Y-%m-%d')\n",
    "\n",
    "year_ago_date_for_station = yearsago(1, from_date=latest_date_for_station_dt)\n",
    "\n",
    "#print(latest_date_for_station)\n",
    "#print(year_ago_date_for_station)\n",
    "\n",
    "station_observations = session.query(Station.name\\\n",
    "                                     , Station.station\\\n",
    "                                     ,Measurement.tobs\\\n",
    "                                     , Measurement.date)\\\n",
    "                                    .filter(Measurement.station == Station.station)\\\n",
    "                                    .filter(Station.station == 'USC00519281')\\\n",
    "                                    .filter(Measurement.date > year_ago_date_for_station).all()\n",
    "x_data = [i[2] for i in station_observations]\n",
    "num_bins=12\n",
    "plt.rcParams.update({'figure.figsize':(7,5), 'figure.dpi':100})\n",
    "plt.hist(x_data, num_bins, edgecolor='orange', linewidth=1.2)\n",
    "plt.ylabel(\"Frequency\")\n",
    "plt.legend(\"tobs\")\n",
    "plt.show()"
   ]
  },
  {
   "cell_type": "markdown",
   "metadata": {},
   "source": [
    "![precipitation](Images/station-histogram.png)"
   ]
  },
  {
   "cell_type": "code",
   "execution_count": 62,
   "metadata": {},
   "outputs": [
    {
     "name": "stdout",
     "output_type": "stream",
     "text": [
      "[(62.0, 69.57142857142857, 74.0)]\n"
     ]
    }
   ],
   "source": [
    "# This function called `calc_temps` will accept start date and end date in the format '%Y-%m-%d' \n",
    "# and return the minimum, average, and maximum temperatures for that range of dates\n",
    "def calc_temps(start_date, end_date):\n",
    "    \"\"\"TMIN, TAVG, and TMAX for a list of dates.\n",
    "    \n",
    "    Args:\n",
    "        start_date (string): A date string in the format %Y-%m-%d\n",
    "        end_date (string): A date string in the format %Y-%m-%d\n",
    "        \n",
    "    Returns:\n",
    "        TMIN, TAVE, and TMAX\n",
    "    \"\"\"\n",
    "    \n",
    "    return session.query(func.min(Measurement.tobs), func.avg(Measurement.tobs), func.max(Measurement.tobs)).\\\n",
    "        filter(Measurement.date >= start_date).filter(Measurement.date <= end_date).all()\n",
    "\n",
    "# function usage example\n",
    "print(calc_temps('2012-02-28', '2012-03-05'))"
   ]
  },
  {
   "cell_type": "code",
   "execution_count": 63,
   "metadata": {},
   "outputs": [],
   "source": [
    "# Use your previous function `calc_temps` to calculate the tmin, tavg, and tmax \n",
    "# for your trip using the previous year's data for those same dates.\n"
   ]
  },
  {
   "cell_type": "code",
   "execution_count": 64,
   "metadata": {},
   "outputs": [],
   "source": [
    "# Plot the results from your previous query as a bar chart. \n",
    "# Use \"Trip Avg Temp\" as your Title\n",
    "# Use the average temperature for the y value\n",
    "# Use the peak-to-peak (tmax-tmin) value as the y error bar (yerr)\n"
   ]
  },
  {
   "cell_type": "code",
   "execution_count": 65,
   "metadata": {},
   "outputs": [],
   "source": [
    "# Calculate the total amount of rainfall per weather station for your trip dates using the previous year's matching dates.\n",
    "# Sort this in descending order by precipitation amount and list the station, name, latitude, longitude, and elevation\n",
    "\n"
   ]
  },
  {
   "cell_type": "markdown",
   "metadata": {},
   "source": [
    "## Optional Challenge Assignment"
   ]
  },
  {
   "cell_type": "code",
   "execution_count": 66,
   "metadata": {},
   "outputs": [
    {
     "data": {
      "text/plain": [
       "[(62.0, 69.15384615384616, 77.0)]"
      ]
     },
     "execution_count": 66,
     "metadata": {},
     "output_type": "execute_result"
    }
   ],
   "source": [
    "# Create a query that will calculate the daily normals \n",
    "# (i.e. the averages for tmin, tmax, and tavg for all historic data matching a specific month and day)\n",
    "\n",
    "def daily_normals(date):\n",
    "    \"\"\"Daily Normals.\n",
    "    \n",
    "    Args:\n",
    "        date (str): A date string in the format '%m-%d'\n",
    "        \n",
    "    Returns:\n",
    "        A list of tuples containing the daily normals, tmin, tavg, and tmax\n",
    "    \n",
    "    \"\"\"\n",
    "    \n",
    "    sel = [func.min(Measurement.tobs), func.avg(Measurement.tobs), func.max(Measurement.tobs)]\n",
    "    return session.query(*sel).filter(func.strftime(\"%m-%d\", Measurement.date) == date).all()\n",
    "    \n",
    "daily_normals(\"01-01\")"
   ]
  },
  {
   "cell_type": "code",
   "execution_count": 67,
   "metadata": {},
   "outputs": [],
   "source": [
    "# calculate the daily normals for your trip\n",
    "# push each tuple of calculations into a list called `normals`\n",
    "\n",
    "# Set the start and end date of the trip\n",
    "\n",
    "# Use the start and end date to create a range of dates\n",
    "\n",
    "# Stip off the year and save a list of %m-%d strings\n",
    "\n",
    "# Loop through the list of %m-%d strings and calculate the normals for each date\n"
   ]
  },
  {
   "cell_type": "code",
   "execution_count": 68,
   "metadata": {},
   "outputs": [],
   "source": [
    "# Load the previous query results into a Pandas DataFrame and add the `trip_dates` range as the `date` index\n"
   ]
  },
  {
   "cell_type": "code",
   "execution_count": 69,
   "metadata": {},
   "outputs": [],
   "source": [
    "# Plot the daily normals as an area plot with `stacked=False`\n"
   ]
  }
 ],
 "metadata": {
  "kernel_info": {
   "name": "python3"
  },
  "kernelspec": {
   "display_name": "Python 3",
   "language": "python",
   "name": "python3"
  },
  "language_info": {
   "codemirror_mode": {
    "name": "ipython",
    "version": 3
   },
   "file_extension": ".py",
   "mimetype": "text/x-python",
   "name": "python",
   "nbconvert_exporter": "python",
   "pygments_lexer": "ipython3",
   "version": "3.7.3"
  },
  "nteract": {
   "version": "0.12.3"
  },
  "varInspector": {
   "cols": {
    "lenName": 16,
    "lenType": 16,
    "lenVar": 40
   },
   "kernels_config": {
    "python": {
     "delete_cmd_postfix": "",
     "delete_cmd_prefix": "del ",
     "library": "var_list.py",
     "varRefreshCmd": "print(var_dic_list())"
    },
    "r": {
     "delete_cmd_postfix": ") ",
     "delete_cmd_prefix": "rm(",
     "library": "var_list.r",
     "varRefreshCmd": "cat(var_dic_list()) "
    }
   },
   "types_to_exclude": [
    "module",
    "function",
    "builtin_function_or_method",
    "instance",
    "_Feature"
   ],
   "window_display": false
  }
 },
 "nbformat": 4,
 "nbformat_minor": 2
}
